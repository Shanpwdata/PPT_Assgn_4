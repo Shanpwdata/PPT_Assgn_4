{
 "cells": [
  {
   "cell_type": "markdown",
   "id": "76d0d41f-e0a5-49a6-94af-5c496ba405ea",
   "metadata": {},
   "source": [
    "💡 **Question 1**\n",
    "Given three integer arrays arr1, arr2 and arr3 **sorted** in **strictly increasing** order, return a sorted array of **only** the integers that appeared in **all** three arrays.\n",
    "\n",
    "**Example 1:**\n",
    "\n",
    "Input: arr1 = [1,2,3,4,5], arr2 = [1,2,5,7,9], arr3 = [1,3,4,5,8]\n",
    "\n",
    "Output: [1,5]\n",
    "\n",
    "**Explanation:** Only 1 and 5 appeared in the three arrays."
   ]
  },
  {
   "cell_type": "code",
   "execution_count": 1,
   "id": "f18391e2-431e-4476-8adf-6c507ca585be",
   "metadata": {},
   "outputs": [],
   "source": [
    "###Ans_1.\n",
    "def sort_arr(arr1,arr2,arr3):\n",
    "    res = []\n",
    "    for i in range(len(arr1)):\n",
    "        if arr1[i] in arr2 and arr1[i] in arr3:\n",
    "            res.append(arr1[i])\n",
    "    return res        "
   ]
  },
  {
   "cell_type": "code",
   "execution_count": 2,
   "id": "d79bd7d6-8994-4abe-b031-de048d034c4f",
   "metadata": {},
   "outputs": [
    {
     "data": {
      "text/plain": [
       "[1, 5]"
      ]
     },
     "execution_count": 2,
     "metadata": {},
     "output_type": "execute_result"
    }
   ],
   "source": [
    "sort_arr([1,2,3,4,5],[1,2,5,7,9],[1,3,4,5,8])"
   ]
  },
  {
   "cell_type": "markdown",
   "id": "d02b4cea-0529-4100-8df3-26dfc3b68384",
   "metadata": {},
   "source": [
    "💡 **Question 2**\n",
    "\n",
    "Given two **0-indexed** integer arrays nums1 and nums2, return *a list* answer *of size* 2 *where:*\n",
    "\n",
    "- answer[0] *is a list of all **distinct** integers in* nums1 *which are **not** present in* nums2*.*\n",
    "- answer[1] *is a list of all **distinct** integers in* nums2 *which are **not** present in* nums1.\n",
    "\n",
    "**Note** that the integers in the lists may be returned in **any** order.\n",
    "\n",
    "**Example 1:**\n",
    "\n",
    "**Input:** nums1 = [1,2,3], nums2 = [2,4,6]\n",
    "\n",
    "**Output:** [[1,3],[4,6]]\n",
    "\n",
    "**Explanation:**\n",
    "\n",
    "For nums1, nums1[1] = 2 is present at index 0 of nums2, whereas nums1[0] = 1 and nums1[2] = 3 are not present in nums2. Therefore, answer[0] = [1,3].\n",
    "\n",
    "For nums2, nums2[0] = 2 is present at index 1 of nums1, whereas nums2[1] = 4 and nums2[2] = 6 are not present in nums2. Therefore, answer[1] = [4,6].\n"
   ]
  },
  {
   "cell_type": "code",
   "execution_count": 3,
   "id": "372ad657-25b0-48a2-abaf-46afb96bbff6",
   "metadata": {},
   "outputs": [],
   "source": [
    "###Ans_2.\n",
    "def difference_num(nums1,nums2):\n",
    "    nums1.sort()\n",
    "    nums2.sort()\n",
    "    x = []\n",
    "    y = []\n",
    "    for i in range(len(nums1)):\n",
    "        if nums1[i] not in nums2:\n",
    "            if nums1[i] not in x:\n",
    "                x.append(nums1[i])\n",
    "               \n",
    "    for j in range(len(nums2)):\n",
    "        if nums2[j] not in nums1:\n",
    "            if nums2[j] not in y:\n",
    "                y.append(nums2[j])\n",
    "    return x,y"
   ]
  },
  {
   "cell_type": "code",
   "execution_count": 4,
   "id": "c6b97859-159d-4391-93d7-f2696bdd5c66",
   "metadata": {},
   "outputs": [
    {
     "data": {
      "text/plain": [
       "([1, 3], [4, 6])"
      ]
     },
     "execution_count": 4,
     "metadata": {},
     "output_type": "execute_result"
    }
   ],
   "source": [
    "difference_num([1,2,3],[2,4,6])"
   ]
  },
  {
   "cell_type": "markdown",
   "id": "ed07d9f7-dfd2-4c3f-b0d3-2b124442f937",
   "metadata": {},
   "source": [
    "💡 **Question 3**\n",
    "Given a 2D integer array matrix, return *the **transpose** of* matrix.\n",
    "\n",
    "The **transpose** of a matrix is the matrix flipped over its main diagonal, switching the matrix's row and column indices.\n",
    "\n",
    "**Example 1:**\n",
    "\n",
    "Input: matrix = [[1,2,3],[4,5,6],[7,8,9]]\n",
    "\n",
    "Output: [[1,4,7],[2,5,8],[3,6,9]]"
   ]
  },
  {
   "cell_type": "code",
   "execution_count": 5,
   "id": "69944d4e-7aa1-4e95-b3ff-9f058c0aa426",
   "metadata": {},
   "outputs": [],
   "source": [
    "###Ans_3.\n",
    "def transpose(matrix):\n",
    "    m = len(matrix) \n",
    "    n = len(matrix[0])\n",
    "    transpose = []\n",
    "    for i in range(n):\n",
    "        newRow = []\n",
    "        for j in range(m):\n",
    "            newRow.append(matrix[j][i])\n",
    "        transpose.append(newRow)\n",
    "        \n",
    "    return transpose      "
   ]
  },
  {
   "cell_type": "code",
   "execution_count": 6,
   "id": "97894953-a403-44ee-847c-7bf20f2526b1",
   "metadata": {},
   "outputs": [
    {
     "data": {
      "text/plain": [
       "[[1, 4, 7], [2, 5, 8], [3, 6, 9]]"
      ]
     },
     "execution_count": 6,
     "metadata": {},
     "output_type": "execute_result"
    }
   ],
   "source": [
    "transpose([[1,2,3],[4,5,6],[7,8,9]])"
   ]
  },
  {
   "cell_type": "markdown",
   "id": "b1f6278a-bbd9-49f0-8527-9558508ec506",
   "metadata": {},
   "source": [
    "💡 **Question 4**\n",
    "Given an integer array nums of 2n integers, group these integers into n pairs (a1, b1), (a2, b2), ..., (an, bn) such that the sum of min(ai, bi) for all i is **maximized**. Return *the maximized sum*.\n",
    "\n",
    "**Example 1:**\n",
    "\n",
    "Input: nums = [1,4,3,2]\n",
    "\n",
    "Output: 4\n",
    "\n",
    "**Explanation:** All possible pairings (ignoring the ordering of elements) are:\n",
    "\n",
    "1. (1, 4), (2, 3) -> min(1, 4) + min(2, 3) = 1 + 2 = 3\n",
    "\n",
    "2. (1, 3), (2, 4) -> min(1, 3) + min(2, 4) = 1 + 2 = 3\n",
    "\n",
    "3. (1, 2), (3, 4) -> min(1, 2) + min(3, 4) = 1 + 3 = 4\n",
    "\n",
    "So the maximum possible sum is 4."
   ]
  },
  {
   "cell_type": "code",
   "execution_count": 7,
   "id": "f3d1df7e-38d0-4f20-9afb-236b3e17516f",
   "metadata": {},
   "outputs": [],
   "source": [
    "###Ans_4.\n",
    "def maxi_sum(nums):\n",
    "    nums.sort()\n",
    "    res = 0\n",
    "    for i in range(0,len(nums),2):\n",
    "        res += nums[i]\n",
    "    return res"
   ]
  },
  {
   "cell_type": "code",
   "execution_count": 8,
   "id": "8b6c2e51-978c-41b5-a2b5-edc9a112723d",
   "metadata": {},
   "outputs": [
    {
     "data": {
      "text/plain": [
       "4"
      ]
     },
     "execution_count": 8,
     "metadata": {},
     "output_type": "execute_result"
    }
   ],
   "source": [
    "maxi_sum([1,4,3,2])"
   ]
  },
  {
   "cell_type": "markdown",
   "id": "2530eb43-1d14-4b6d-a9e2-c297dd354952",
   "metadata": {},
   "source": [
    "💡 **Question 5**\n",
    "You have n coins and you want to build a staircase with these coins. The staircase consists of k rows where the ith row has exactly i coins. The last row of the staircase **may be** incomplete.\n",
    "\n",
    "Given the integer n, return *the number of **complete rows** of the staircase you will build*.\n",
    "\n",
    "**Example 1:**\n",
    "\n",
    "[]()\n",
    "\n",
    "![v2.jpg](https://s3-us-west-2.amazonaws.com/secure.notion-static.com/4bd91cfa-d2b1-47b3-8197-a72e8dcfff4b/v2.jpg)\n",
    "\n",
    "**Input:** n = 5\n",
    "\n",
    "**Output:** 2\n",
    "\n",
    "**Explanation:** Because the 3rd row is incomplete, we return 2."
   ]
  },
  {
   "cell_type": "code",
   "execution_count": 9,
   "id": "5d0d3fc4-fd30-440a-966e-3ad2b1efd060",
   "metadata": {},
   "outputs": [],
   "source": [
    "###Ans_5.\n",
    "def staircase(n):\n",
    "    k = 0\n",
    "    coin = 1\n",
    "    while n >= coin:\n",
    "        n -= coin\n",
    "        k += 1\n",
    "        coin += 1\n",
    "    return k"
   ]
  },
  {
   "cell_type": "code",
   "execution_count": 10,
   "id": "98e652dc-9c33-4a5c-8368-ea7f66bcd990",
   "metadata": {},
   "outputs": [
    {
     "data": {
      "text/plain": [
       "2"
      ]
     },
     "execution_count": 10,
     "metadata": {},
     "output_type": "execute_result"
    }
   ],
   "source": [
    "staircase(5)"
   ]
  },
  {
   "cell_type": "markdown",
   "id": "c25202a1-746a-4f93-9649-e966b09a3a60",
   "metadata": {},
   "source": [
    "💡 **Question 6**\n",
    "Given an integer array nums sorted in **non-decreasing** order, return *an array of **the squares of each number** sorted in non-decreasing order*.\n",
    "\n",
    "**Example 1:**\n",
    "\n",
    "Input: nums = [-4,-1,0,3,10]\n",
    "\n",
    "Output: [0,1,9,16,100]\n",
    "\n",
    "**Explanation:** After squaring, the array becomes [16,1,0,9,100].\n",
    "After sorting, it becomes [0,1,9,16,100]\n"
   ]
  },
  {
   "cell_type": "code",
   "execution_count": 11,
   "id": "f9844336-1072-42f6-9aa1-332cb8d7438b",
   "metadata": {},
   "outputs": [],
   "source": [
    "###Ans_6.\n",
    "def sqauring(nums):\n",
    "    x = list(map(lambda x : x**2,nums))\n",
    "    x.sort()\n",
    "    return x"
   ]
  },
  {
   "cell_type": "code",
   "execution_count": 12,
   "id": "11a98117-c9ac-46b1-9fea-4c4e544cfebc",
   "metadata": {},
   "outputs": [
    {
     "data": {
      "text/plain": [
       "[0, 1, 9, 16, 100]"
      ]
     },
     "execution_count": 12,
     "metadata": {},
     "output_type": "execute_result"
    }
   ],
   "source": [
    "sqauring([-4,-1,0,3,10])"
   ]
  },
  {
   "cell_type": "markdown",
   "id": "6eac73cd-b9af-4690-8b50-42f6997fc1b7",
   "metadata": {},
   "source": [
    "💡 **Question 7**\n",
    "You are given an m x n matrix M initialized with all 0's and an array of operations ops, where ops[i] = [ai, bi] means M[x][y] should be incremented by one for all 0 <= x < ai and 0 <= y < bi.\n",
    "\n",
    "Count and return *the number of maximum integers in the matrix after performing all the operations*\n",
    "\n",
    "**Example 1:**\n",
    "\n",
    "![q4.jpg](https://s3-us-west-2.amazonaws.com/secure.notion-static.com/4d0890d0-7bc7-4f59-be8e-352d9f3c1c52/q4.jpg)\n",
    "\n",
    "**Input:** m = 3, n = 3, ops = [[2,2],[3,3]]\n",
    "\n",
    "**Output:** 4\n",
    "\n",
    "**Explanation:** The maximum integer in M is 2, and there are four of it in M. So return 4."
   ]
  },
  {
   "cell_type": "code",
   "execution_count": 13,
   "id": "553c3153-ad0d-42c3-b8c5-b8f4bdff4bab",
   "metadata": {},
   "outputs": [],
   "source": [
    "###Ans_7.\n",
    "def maxCount( m, n, ops):\n",
    "    min_a = m\n",
    "    min_b = n\n",
    "\n",
    "    for i in ops:\n",
    "        ai, bi = i\n",
    "        min_a = min(min_a, ai)\n",
    "        min_b = min(min_b, bi)\n",
    "\n",
    "    return min_a * min_b"
   ]
  },
  {
   "cell_type": "code",
   "execution_count": 14,
   "id": "3552446d-4788-4096-981c-17ca82344481",
   "metadata": {},
   "outputs": [
    {
     "data": {
      "text/plain": [
       "4"
      ]
     },
     "execution_count": 14,
     "metadata": {},
     "output_type": "execute_result"
    }
   ],
   "source": [
    "maxCount(3,3,[[2,2],[3,3]])"
   ]
  },
  {
   "cell_type": "markdown",
   "id": "1c5e3850-dd36-4da2-9d51-ab11ff1613de",
   "metadata": {},
   "source": [
    "💡 **Question 8**\n",
    "\n",
    "Given the array nums consisting of 2n elements in the form [x1,x2,...,xn,y1,y2,...,yn].\n",
    "\n",
    "*Return the array in the form* [x1,y1,x2,y2,...,xn,yn].\n",
    "\n",
    "**Example 1:**\n",
    "\n",
    "**Input:** nums = [2,5,1,3,4,7], n = 3\n",
    "\n",
    "**Output:** [2,3,5,4,1,7]\n",
    "\n",
    "**Explanation:** Since x1=2, x2=5, x3=1, y1=3, y2=4, y3=7 then the answer is [2,3,5,4,1,7]."
   ]
  },
  {
   "cell_type": "code",
   "execution_count": 20,
   "id": "d3956cb6-8c21-4335-b0f3-e67b550b2b3a",
   "metadata": {},
   "outputs": [],
   "source": [
    "###Ans_8.\n",
    "def element_arr(nums,n):\n",
    "    i=0\n",
    "    j=n\n",
    "    res=[]\n",
    "    while(i<n):\n",
    "        res.append(nums[i])\n",
    "        res.append(nums[j])\n",
    "        i+=1\n",
    "        j+=1\n",
    "    return res"
   ]
  },
  {
   "cell_type": "code",
   "execution_count": 22,
   "id": "58e37476-bd20-4825-af26-bcb3dd43a166",
   "metadata": {},
   "outputs": [
    {
     "data": {
      "text/plain": [
       "[2, 3, 5, 4, 1, 7]"
      ]
     },
     "execution_count": 22,
     "metadata": {},
     "output_type": "execute_result"
    }
   ],
   "source": [
    "element_arr([2,5,1,3,4,7],3)"
   ]
  },
  {
   "cell_type": "code",
   "execution_count": null,
   "id": "e0352381-e497-4146-a1f7-121f7009eda5",
   "metadata": {},
   "outputs": [],
   "source": []
  }
 ],
 "metadata": {
  "kernelspec": {
   "display_name": "Python 3 (ipykernel)",
   "language": "python",
   "name": "python3"
  },
  "language_info": {
   "codemirror_mode": {
    "name": "ipython",
    "version": 3
   },
   "file_extension": ".py",
   "mimetype": "text/x-python",
   "name": "python",
   "nbconvert_exporter": "python",
   "pygments_lexer": "ipython3",
   "version": "3.10.8"
  }
 },
 "nbformat": 4,
 "nbformat_minor": 5
}
